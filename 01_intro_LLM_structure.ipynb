{
  "cells": [
    {
      "cell_type": "markdown",
      "metadata": {
        "id": "1dJNRhYYFbdL"
      },
      "source": [
        "# Tutorial: Extracting Information from Text Using OpenAI's API\n",
        "\n",
        "This tutorial demonstrates how to use OpenAI's API to extract information from a text input. We will go through the steps of setting up the OpenAI client, making requests to the API, and processing the responses. The example involves summarizing a Danish news article and extracting structured information from it.\n",
        "\n",
        "## Installation and Imports\n",
        "First, we need to install the required library and import necessary modules.\n"
      ]
    },
    {
      "cell_type": "code",
      "execution_count": null,
      "metadata": {
        "colab": {
          "base_uri": "https://localhost:8080/"
        },
        "id": "rcpyGhv2ZlDK",
        "outputId": "4324a8bf-691a-4025-db69-cc1cdccec9e4"
      },
      "outputs": [],
      "source": [
        "!pip install openai -q"
      ]
    },
    {
      "cell_type": "code",
      "execution_count": 2,
      "metadata": {
        "id": "WlnZwJIjae5d"
      },
      "outputs": [],
      "source": [
        "# Import required libraries\n",
        "from openai import OpenAI\n",
        "from google.colab import userdata\n",
        "import json\n",
        "from pydantic import BaseModel, Field"
      ]
    },
    {
      "cell_type": "markdown",
      "metadata": {
        "id": "IZPPl-oLFbdO"
      },
      "source": [
        "Setting Up the OpenAI Client\n",
        "\n",
        "We will set up the OpenAI client using a custom API key and base URL."
      ]
    },
    {
      "cell_type": "code",
      "execution_count": 3,
      "metadata": {
        "id": "u20ck6dye0y0"
      },
      "outputs": [],
      "source": [
        "# Setup OpenAI client with custom API key and base URL\n",
        "TOGETHER_API_KEY = userdata.get('TOGETHER_API_KEY')"
      ]
    },
    {
      "cell_type": "markdown",
      "metadata": {
        "id": "ouGkUJf9FbdP"
      },
      "source": [
        "### Summarizing Text\n",
        "\n",
        "We will call the language model to summarize a given Danish text into a single sentence."
      ]
    },
    {
      "cell_type": "code",
      "execution_count": 4,
      "metadata": {
        "id": "djcjO6qMgC4M"
      },
      "outputs": [],
      "source": [
        "# Create client\n",
        "client = OpenAI(\n",
        "    base_url=\"https://api.together.xyz/v1\",\n",
        "    api_key=TOGETHER_API_KEY\n",
        ")"
      ]
    },
    {
      "cell_type": "code",
      "execution_count": 5,
      "metadata": {
        "id": "q7-BSyvJkgAN"
      },
      "outputs": [],
      "source": [
        "text = \"\"\"\n",
        "Spektakulær sølvskat fra vikingetiden fundet nord for Aarhus\n",
        "En 22-årig arkæologistuderende står bag fundet.\n",
        "\n",
        "Da den 22-årige arkæologistuderende Gustav Bruunsgaard i foråret var ude at gå med sin metaldetektor ved Elsted nord for Aarhus, gjorde han sig noget af et fund:\n",
        "\n",
        "Først fandt han én armring i sølv.\n",
        "\n",
        "Få dage efter vendte han tilbage til stedet og fandt yderligere seks armringe.\n",
        "\n",
        "Både danske og internationale eksperter konkluderer, at de syv armringe stammer fra vikingetiden.\n",
        "\n",
        "Det skriver Moesgaard Museum i en pressemeddelelse, hvor de kalder skatten spektakulær.\n",
        "\n",
        "Elstedgårdskatten er et fantastisk interessant fund fra vikingetiden, siger Kasper H. Andersen, der er ph.d. og historiker på Moesgaard Museum, i pressemeddelelsen.\n",
        "\n",
        "Trækker tråde til øst og vest\n",
        "\n",
        "Fundet understreger ifølge Kasper H. Andersen, at Aarhus var et centralt knudepunkt i vikingetiden.\n",
        "\n",
        "Ringene trækker nemlig tråde til både Rusland, Ukraine og De Britiske Øer, fremgår det af pressemeddelelse.\n",
        "\n",
        "Da Gustav Bruunsgaards metaldetektor bippede, gravede han den første armring op med sin medbragte spade. På marken, hvor der var gevinst, er der før blevet fundet spor efter bebyggelse fra vikingetiden.\n",
        "\n",
        "En af ringene - den oprullede - er en type, der oprindeligt kommer fra Rusland eller Ukraine. Den er siden blevet efterlignet her i Norden.\n",
        "\n",
        "Tre af ringene, som er båndformede og stemplede, er en skandinavisk type, der siden gav inspiration til armringe i Irland.\n",
        "\n",
        "De tre glatte armringe er sjældne, men er kendt fra Skandinavien og England, skriver Moesgaard Museum i pressemeddelelsen.\n",
        "\n",
        "På den måde understreger fundet, hvordan Aarhus var et centralt knudepunkt i vikingernes verden, som gik helt fra Nordatlanten til Asien, siger Kasper H. Andersen.\n",
        "\n",
        "Fungerede som betalingsmiddel\n",
        "\n",
        "Eksperter har dateret armringene tilbage til 800-årene, som er den tidlige vikingetid. Det er også kort tid efter, at vikingetidens Aarhus blev grundlagt - det, der dengang blev kaldt Aros.\n",
        "\n",
        "Dengang målte man værdi i sølv. Armringene var tilpasset et vægtsystem, så man kunne se de enkelte ringes værdi, og de blev brugt som betalingsmiddel. De demonstrerede også ejerens økonomiske formåen, skriver museet.\n",
        "\n",
        "Hvis du vil se de syv armringe, kan de opleves nu på Moesgaard Museum. Herefter bliver de overdraget til Nationalmuseet.\n",
        "\"\"\""
      ]
    },
    {
      "cell_type": "code",
      "execution_count": 6,
      "metadata": {
        "id": "e0HW0BFzkbRT"
      },
      "outputs": [],
      "source": [
        "# Call the LLM with the JSON schema\n",
        "chat_completion = client.chat.completions.create(\n",
        "    #model=\"meta-llama/Meta-Llama-3.1-70B-Instruct-Turbo\",\n",
        "    model=\"meta-llama/Meta-Llama-3.1-8B-Instruct-Turbo\",\n",
        "\n",
        "    messages=[\n",
        "        {\n",
        "            \"role\": \"system\",\n",
        "            \"content\": \"Du er en hjælpsom assistent, der udtrækker information fra dansk tekst. Svar på dansk\",\n",
        "        },\n",
        "        {\n",
        "            \"role\": \"user\",\n",
        "            \"content\": \"Opsumer følgende til 1 kort sætning: \" + text ,\n",
        "        },\n",
        "    ],\n",
        ")\n",
        "\n",
        "output = chat_completion.choices[0].message.content"
      ]
    },
    {
      "cell_type": "code",
      "execution_count": null,
      "metadata": {
        "colab": {
          "base_uri": "https://localhost:8080/"
        },
        "id": "pgYC4La8lQzM",
        "outputId": "790b046e-f0a1-4a0d-bab2-00f4b838c863"
      },
      "outputs": [],
      "source": [
        "print(output)"
      ]
    },
    {
      "cell_type": "markdown",
      "metadata": {
        "id": "t5eIFq19FbdQ"
      },
      "source": [
        "## Creating a User Object and extracting structured info\n",
        "We will define a schema for a user and call the API to create a user object based on this schema."
      ]
    },
    {
      "cell_type": "code",
      "execution_count": 8,
      "metadata": {
        "id": "cgOU8LbJgmSm"
      },
      "outputs": [],
      "source": [
        "# Define the schema for the output.\n",
        "class User(BaseModel):\n",
        "    name: str = Field(description=\"user name\")\n",
        "    address: str = Field(description=\"address\")"
      ]
    },
    {
      "cell_type": "code",
      "execution_count": null,
      "metadata": {
        "colab": {
          "base_uri": "https://localhost:8080/"
        },
        "id": "5ArU4MYKe7Fa",
        "outputId": "bf0bb8bb-11f5-45cd-b6c1-957eb861f6f6"
      },
      "outputs": [],
      "source": [
        "# Call the LLM with the JSON schema\n",
        "chat_completion = client.chat.completions.create(\n",
        "    model=\"meta-llama/Meta-Llama-3.1-8B-Instruct-Turbo\",\n",
        "    response_format={\"type\": \"json_object\", \"schema\": User.model_json_schema()},\n",
        "    messages=[\n",
        "        {\n",
        "            \"role\": \"system\",\n",
        "            \"content\": \"You are a helpful assistant that answers in JSON.\",\n",
        "        },\n",
        "        {\n",
        "            \"role\": \"user\",\n",
        "            \"content\": \"Create a user named Alice, who lives in 42, Wonderland Avenue.\",\n",
        "        },\n",
        "    ],\n",
        ")\n",
        "\n",
        "created_user = json.loads(chat_completion.choices[0].message.content)\n",
        "print(json.dumps(created_user, indent=2))"
      ]
    },
    {
      "cell_type": "markdown",
      "metadata": {
        "id": "iTYaZAJNFbdQ"
      },
      "source": [
        "## Extracting Case Details\n",
        "We will define a schema for case details and extract relevant information from the given text."
      ]
    },
    {
      "cell_type": "code",
      "execution_count": 10,
      "metadata": {
        "id": "DkrMtaLKf-TA"
      },
      "outputs": [],
      "source": [
        "class NewsEventDetails(BaseModel):\n",
        "    event_date: str = Field(description=\"Date when the event occurred or was reported\")\n",
        "    event_location: str = Field(description=\"Location where the event took place\")\n",
        "    reporter_name: str = Field(description=\"Name of the person reporting or involved in the event\")\n",
        "    reporter_age: int = Field(description=\"Age of the person reporting or involved in the event\")\n",
        "    event_description: str = Field(description=\"Description of the event\")\n",
        "    items_involved: list[str] = Field(description=\"Items or entities involved in the event\")\n",
        "    historical_context: str = Field(description=\"Historical or contextual background of the event\")\n",
        "    origins: list[str] = Field(description=\"Possible origins or sources related to the event\")\n",
        "    significance: str = Field(description=\"Importance or impact of the event\")\n",
        "    current_location: str = Field(description=\"Current location of items or entities involved\")\n",
        "    future_location: str = Field(description=\"Future location or outcome for items or entities involved\")"
      ]
    },
    {
      "cell_type": "code",
      "execution_count": null,
      "metadata": {
        "id": "0GVEwupqmdtT"
      },
      "outputs": [],
      "source": [
        "# Call the LLM with the JSON schema\n",
        "chat_completion = client.chat.completions.create(\n",
        "    model=\"meta-llama/Meta-Llama-3.1-8B-Instruct-Turbo\",\n",
        "    response_format={\"type\": \"json_object\", \"schema\": NewsEventDetails.model_json_schema()},\n",
        "    messages=[\n",
        "        {\n",
        "            \"role\": \"system\",\n",
        "            \"content\": \"You are a helpful assistant that answers in JSON.\",\n",
        "        },\n",
        "        {\n",
        "            \"role\": \"user\",\n",
        "            \"content\": \"Extract case informatin form following.: \" + text,\n",
        "        },\n",
        "    ],\n",
        ")\n",
        "\n"
      ]
    },
    {
      "cell_type": "code",
      "execution_count": null,
      "metadata": {
        "colab": {
          "base_uri": "https://localhost:8080/"
        },
        "id": "cPZlOwcJc2bb",
        "outputId": "db1a8879-0384-4b85-afbd-7a6831c1bdc1"
      },
      "outputs": [],
      "source": [
        "extracted_output = json.loads(chat_completion.choices[0].message.content)\n",
        "print(json.dumps(extracted_output, ensure_ascii=False, indent=2))"
      ]
    },
    {
      "cell_type": "code",
      "execution_count": 14,
      "metadata": {
        "id": "f_R_V2ExMu-l"
      },
      "outputs": [],
      "source": [
        "json_schema = \"\"\"{'properties': {'event_date': {'description': 'Date when the event occurred or was reported',\n",
        "   'title': 'Event Date',\n",
        "   'type': 'string'},\n",
        "  'event_location': {'description': 'Location where the event took place',\n",
        "   'title': 'Event Location',\n",
        "   'type': 'string'},\n",
        "  'reporter_name': {'description': 'Name of the person reporting or involved in the event',\n",
        "   'title': 'Reporter Name',\n",
        "   'type': 'string'},\n",
        "  'reporter_age': {'description': 'Age of the person reporting or involved in the event',\n",
        "   'title': 'Reporter Age',\n",
        "   'type': 'integer'},\n",
        "  'event_description': {'description': 'Description of the event',\n",
        "   'title': 'Event Description',\n",
        "   'type': 'string'},\n",
        "  'items_involved': {'description': 'Items or entities involved in the event',\n",
        "   'items': {'type': 'string'},\n",
        "   'title': 'Items Involved',\n",
        "   'type': 'array'},\n",
        "  'historical_context': {'description': 'Historical or contextual background of the event',\n",
        "   'title': 'Historical Context',\n",
        "   'type': 'string'},\n",
        "  'origins': {'description': 'Possible origins or sources related to the event',\n",
        "   'items': {'type': 'string'},\n",
        "   'title': 'Origins',\n",
        "   'type': 'array'},\n",
        "  'significance': {'description': 'Importance or impact of the event',\n",
        "   'title': 'Significance',\n",
        "   'type': 'string'},\n",
        "  'current_location': {'description': 'Current location of items or entities involved',\n",
        "   'title': 'Current Location',\n",
        "   'type': 'string'},\n",
        "  'future_location': {'description': 'Future location or outcome for items or entities involved',\n",
        "   'title': 'Future Location',\n",
        "   'type': 'string'}},\n",
        " 'required': ['event_date',\n",
        "  'event_location',\n",
        "  'reporter_name',\n",
        "  'reporter_age',\n",
        "  'event_description',\n",
        "  'items_involved',\n",
        "  'historical_context',\n",
        "  'origins',\n",
        "  'significance',\n",
        "  'current_location',\n",
        "  'future_location'],\n",
        " 'title': 'NewsEventDetails',\n",
        " 'type': 'object'}\"\"\""
      ]
    },
    {
      "cell_type": "code",
      "execution_count": 15,
      "metadata": {
        "id": "F1uOkLnJMRrm"
      },
      "outputs": [],
      "source": [
        "# Call the LLM with the JSON schema\n",
        "chat_completion = client.chat.completions.create(\n",
        "    model=\"meta-llama/Llama-3-70b-chat-hf\",\n",
        "    #response_format={\"type\": \"json_object\", \"schema\": CaseDetails.model_json_schema()},\n",
        "    messages=[\n",
        "        {\n",
        "            \"role\": \"system\",\n",
        "            \"content\": \"Du er en hjælpsom assistent, der udtrækker information fra dansk tekst som JSON. Kun JSON. Ingen forklaringer. Ingen ekstra info!!!\",\n",
        "        },\n",
        "        {\n",
        "            \"role\": \"user\",\n",
        "            \"content\": \"udtræk fra følgende tekst.: \" + text + \"Brug følgende JSON schema: \" + json_schema,\n",
        "        },\n",
        "    ],\n",
        ")\n",
        "\n"
      ]
    },
    {
      "cell_type": "code",
      "execution_count": null,
      "metadata": {
        "colab": {
          "base_uri": "https://localhost:8080/"
        },
        "id": "RoV9V-BgNNXd",
        "outputId": "10411eb2-1722-459a-8ae1-f16bc3eedf01"
      },
      "outputs": [],
      "source": [
        "extracted_output = json.loads(chat_completion.choices[0].message.content)\n",
        "print(json.dumps(extracted_output, ensure_ascii=False, indent=2))\n"
      ]
    },
    {
      "cell_type": "code",
      "execution_count": 18,
      "metadata": {
        "id": "-HZJ1qe3NQfa"
      },
      "outputs": [],
      "source": [
        "text_2 = \"\"\"\n",
        "\n",
        "Massive demonstration i København: Tusindvis af mennesker samlet for klimaretfærdighed\n",
        "\n",
        "Titusindvis af borgere gik i dag på gaden i København for at demonstrere for klimaretfærdighed. Demonstrationen, som blev arrangeret af en koalition af miljøorganisationer, fagforeninger og ungdomsbevægelser, er en af de største klimaprotester i Danmarks historie.\n",
        "\n",
        "Demonstrationen startede på Rådhuspladsen, hvor taler fra forskellige aktivister, forskere og politikere satte fokus på behovet for øjeblikkelige handlinger mod klimaforandringer. Mange demonstranter bar skilte med budskaber som \"Der er ingen planet B\" og \"Handle nu for fremtiden\".\n",
        "\n",
        "En af talerne var 17-årige Mette Nielsen, der har været aktiv i Fridays for Future-bevægelsen siden 2019. Hun understregede vigtigheden af, at de unge bliver hørt i klimadebatten.\n",
        "\n",
        "Politiet anslår, at omkring 30.000 mennesker deltog i protesten. Demonstrationen forløb fredeligt, men med en stærk og højlydt stemning.\n",
        "\n",
        "Demonstranterne afsluttede dagen med en march gennem byen, hvor de sluttede på Christiansborg Slotsplads, hvor flere politikere blev mødt med krav om mere ambitiøse klimaplaner.\n",
        "\n",
        "Demonstrationen kommer i kølvandet på en uge med intense klimadebatter i Folketinget, hvor der er blevet diskuteret nye mål for CO2-reduktioner og bæredygtig energiomstilling.\n",
        "\n",
        "Demonstranterne kræver, at regeringen og virksomhederne tager deres ansvar alvorligt og arbejder mod en grønnere og mere retfærdig fremtid.\n",
        "\"\"\""
      ]
    },
    {
      "cell_type": "code",
      "execution_count": 19,
      "metadata": {
        "id": "S6Q98dbCRUSq"
      },
      "outputs": [],
      "source": [
        "# Call the LLM with the JSON schema\n",
        "chat_completion = client.chat.completions.create(\n",
        "    model=\"meta-llama/Meta-Llama-3.1-8B-Instruct-Turbo\",\n",
        "    #response_format={\"type\": \"json_object\", \"schema\": CaseDetails.model_json_schema()},\n",
        "    messages=[\n",
        "        {\n",
        "            \"role\": \"system\",\n",
        "            \"content\": \"Du er en hjælpsom assistent, der udtrækker information fra dansk tekst som JSON. Kun JSON. Ingen forklaringer. Ingen ekstra info!!!\",\n",
        "        },\n",
        "        {\n",
        "            \"role\": \"user\",\n",
        "            \"content\": \"udtræk fra følgende tekst.: \" + text + \"Brug følgende JSON schema: \" + json_schema,\n",
        "        },\n",
        "                {\n",
        "            \"role\": \"assistant\",\n",
        "            \"content\": \"\"\"{\n",
        "  \"event_date\": \"-\",\n",
        "  \"event_location\": \"Elsted, nord for Aarhus\",\n",
        "  \"reporter_name\": \"Gustav Bruunsgaard\",\n",
        "  \"reporter_age\": 22,\n",
        "  \"event_description\": \"En 22-årig arkæologistuderende fandt en sølvskat med syv armringe på Elsted nord for Aarhus.\",\n",
        "  \"items_involved\": [\n",
        "    \"armringe\",\n",
        "    \"metaldetektor\",\n",
        "    \"spade\"\n",
        "  ],\n",
        "  \"historical_context\": \"vikingetiden\",\n",
        "  \"origins\": [\n",
        "    \"Rusland\",\n",
        "    \"Ukraine\",\n",
        "    \"De Britiske Øer\",\n",
        "    \"Skandinavien\",\n",
        "    \"Irland\"\n",
        "  ],\n",
        "  \"significance\": \"Fundet understreger Aarhus var et centralt knudepunkt i vikingetiden.\",\n",
        "  \"current_location\": \"Moesgaard Museum\",\n",
        "  \"future_location\": \"Nationalmuseet\"\n",
        "}\"\"\",\n",
        "        },\n",
        "                {\n",
        "            \"role\": \"user\",\n",
        "            \"content\": \"udtræk fra følgende tekst.: \" + text_2 + \"Brug følgende JSON schema: \" + json_schema,\n",
        "        },\n",
        "    ],\n",
        ")\n",
        "\n"
      ]
    },
    {
      "cell_type": "code",
      "execution_count": null,
      "metadata": {
        "colab": {
          "base_uri": "https://localhost:8080/",
          "height": 140
        },
        "id": "JEmnij75VQpG",
        "outputId": "b6061d19-8594-47c3-87df-946a2dc9b0b2"
      },
      "outputs": [],
      "source": [
        "chat_completion.choices[0].message.content"
      ]
    },
    {
      "cell_type": "code",
      "execution_count": null,
      "metadata": {
        "colab": {
          "base_uri": "https://localhost:8080/"
        },
        "id": "NJQcZUj9SYgI",
        "outputId": "e3105408-f43a-442b-a4e7-8985d0285c43"
      },
      "outputs": [],
      "source": [
        "extracted_output = json.loads(chat_completion.choices[0].message.content)\n",
        "print(json.dumps(extracted_output, ensure_ascii=False, indent=2))\n"
      ]
    }
  ],
  "metadata": {
    "colab": {
      "provenance": []
    },
    "kernelspec": {
      "display_name": "Python 3",
      "name": "python3"
    },
    "language_info": {
      "name": "python"
    }
  },
  "nbformat": 4,
  "nbformat_minor": 0
}
